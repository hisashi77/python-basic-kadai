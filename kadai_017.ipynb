{
  "nbformat": 4,
  "nbformat_minor": 0,
  "metadata": {
    "colab": {
      "provenance": []
    },
    "kernelspec": {
      "name": "python3",
      "display_name": "Python 3"
    },
    "language_info": {
      "name": "python"
    }
  },
  "cells": [
    {
      "cell_type": "code",
      "source": [
        "class Human:\n",
        "    def __init__(self, name, age):\n",
        "        self.name = name\n",
        "        self.age = age\n",
        "\n",
        "    def check_adult(self):\n",
        "        if self.age >= 20:\n",
        "            print(f\"{self.name}さんは大人です。\")\n",
        "        else:\n",
        "            print(f\"{self.name}さんは大人ではありません。\")\n",
        "\n",
        "people = [\n",
        "    Human(\"太郎\", 25),\n",
        "    Human(\"花子\", 18),\n",
        "    Human(\"次郎\", 30),\n",
        "    Human(\"さくら\", 15)\n",
        "]\n",
        "\n",
        "for person in people:\n",
        "    person.check_adult()\n"
      ],
      "metadata": {
        "colab": {
          "base_uri": "https://localhost:8080/"
        },
        "id": "2ILfcYDTa7tL",
        "outputId": "b3327f55-78dc-41fa-991f-b9eab17c4745"
      },
      "execution_count": 7,
      "outputs": [
        {
          "output_type": "stream",
          "name": "stdout",
          "text": [
            "太郎さんは大人です。\n",
            "花子さんは大人ではありません。\n",
            "次郎さんは大人です。\n",
            "さくらさんは大人ではありません。\n"
          ]
        }
      ]
    }
  ]
}