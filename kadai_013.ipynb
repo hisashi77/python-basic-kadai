{
  "nbformat": 4,
  "nbformat_minor": 0,
  "metadata": {
    "colab": {
      "provenance": []
    },
    "kernelspec": {
      "name": "python3",
      "display_name": "Python 3"
    },
    "language_info": {
      "name": "python"
    }
  },
  "cells": [
    {
      "cell_type": "code",
      "source": [
        "def item_price(price, tax):\n",
        "    total_price = price + (price * tax)\n",
        "    return total_price\n",
        "\n",
        "price = 1000\n",
        "tax = 0.10\n",
        "\n",
        "total = item_price(price, tax)\n",
        "\n",
        "print(f\"{total}円\")\n"
      ],
      "metadata": {
        "colab": {
          "base_uri": "https://localhost:8080/"
        },
        "id": "IzZn2u0OEKjU",
        "outputId": "0a6f5a9a-182c-4f72-af39-54c28fdfdf78"
      },
      "execution_count": 3,
      "outputs": [
        {
          "output_type": "stream",
          "name": "stdout",
          "text": [
            "1100.0円\n"
          ]
        }
      ]
    }
  ]
}