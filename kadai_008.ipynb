{
  "nbformat": 4,
  "nbformat_minor": 0,
  "metadata": {
    "colab": {
      "provenance": []
    },
    "kernelspec": {
      "name": "python3",
      "display_name": "Python 3"
    },
    "language_info": {
      "name": "python"
    }
  },
  "cells": [
    {
      "cell_type": "code",
      "source": [
        "import random\n",
        "\n",
        "var = random.randint(0, 10)\n",
        "\n",
        "print(var)\n",
        "\n",
        "if var == 3 or var == 6 or var == 9:\n",
        "  print(\"Fizz\")\n",
        "\n",
        "elif var == 5 or var == 10:\n",
        "  print(\"Buzz\")\n",
        "\n",
        "else:\n",
        "  print(\"FizzBuzz\")\n",
        "\n",
        "\n"
      ],
      "metadata": {
        "colab": {
          "base_uri": "https://localhost:8080/"
        },
        "id": "3ataYLDrLZYr",
        "outputId": "cb03ada0-bfe7-41d4-a556-abf329bc14f4"
      },
      "execution_count": 11,
      "outputs": [
        {
          "output_type": "stream",
          "name": "stdout",
          "text": [
            "2\n",
            "FizzBuzz\n"
          ]
        }
      ]
    }
  ]
}